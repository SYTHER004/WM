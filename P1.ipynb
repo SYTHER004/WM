import nltk
nltk.download('stopwords')
from nltk.corpus import stopwords
set(stopwords.words('english'))



import nltk
nltk.download('punkt')
nltk.download('stopwords')
from nltk.corpus import stopwords
from nltk.tokenize import word_tokenize

example_sent = "This is a sample sentence, showing off the stop words filtration"
stop_words = set(stopwords.words('english'))
word_tokens = word_tokenize(example_sent)
filtered_sentence = [w for w in word_tokens if w not in stop_words]

print(filtered_sentence)